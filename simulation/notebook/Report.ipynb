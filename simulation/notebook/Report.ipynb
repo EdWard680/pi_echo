{
 "cells": [
  {
   "cell_type": "code",
   "execution_count": 70,
   "metadata": {
    "hide_input": true
   },
   "outputs": [],
   "source": [
    "import numpy as np\n",
    "from numpy import linalg as la\n",
    "import matplotlib.pyplot as plt\n",
    "import math\n",
    "import ipywidgets as widgets\n",
    "from IPython.display import display, Markdown, Latex\n",
    "import sympy\n",
    "from sympy import *\n",
    "from sympy.physics.units import *\n",
    "\n",
    "def display_var(var, value, unit=None, preface=None):\n",
    "    display(Markdown(\"$\\\\text{{ {}${} = {:.3f} \\\\text{{ {} }} $ }} $\".format(preface or \"\", var, value, unit or \"\")))"
   ]
  },
  {
   "cell_type": "markdown",
   "metadata": {},
   "source": [
    "# Pi Echo\n",
    "\n",
    "_Introduction_\n",
    "\n",
    "## Background\n"
   ]
  },
  {
   "cell_type": "markdown",
   "metadata": {},
   "source": [
    "## Aproach\n",
    "### Simulation\n",
    "\n",
    "Simulating a system like this is actually rather straight forward. The goal of each simulation is to determine the performance of each set of parameters. The key parameters are the sample frequency, $f_s$, which affects the limits of all other parameters and performance characteristics. Primarily, it determines the highest frequency which can be detected by the system, in accordance with the Nyquist Sampling Theorm $f_s > 2f_{max}$. In our application, $f_{max}$ is going to be the emitted frequency doppler shifted by the maximum speed we want to detect. In general, the doppler shift will be very small compared to the frequency itself, so we'll generalize the constraint to be\n",
    "\n",
    "$$ f_s > 2f_0 $$\n",
    "\n",
    "where f_0 is the emitted frequency. $f_0$ itself affects the performance characteristics a marginal amount. The doppler effect is defined as\n",
    "\n",
    "$$ f_{doppler} = {c \\over c+v} f_0 $$\n",
    "\n",
    "When a standard Discrete Fourier Transform is used to find frequencies, a higher $f_0$ will result in a proportional shift in $f_{doppler}$ as a result, which will span more frequency bins in the transform."
   ]
  },
  {
   "cell_type": "code",
   "execution_count": 96,
   "metadata": {},
   "outputs": [
    {
     "data": {
      "text/markdown": [
       "$\\text{  for $f_0 = 5000$ Hz: $f_0 - f_{doppler} = 14.535 \\text{ Hz } $ } $"
      ],
      "text/plain": [
       "<IPython.core.display.Markdown object>"
      ]
     },
     "metadata": {},
     "output_type": "display_data"
    },
    {
     "data": {
      "text/markdown": [
       "$\\text{  for $f_0 = 22000$ Hz: $f_0 - f_{doppler} = 63.953 \\text{ Hz } $ } $"
      ],
      "text/plain": [
       "<IPython.core.display.Markdown object>"
      ]
     },
     "metadata": {},
     "output_type": "display_data"
    }
   ],
   "source": [
    "c = 343 # m/s\n",
    "\n",
    "# Returns the frequency shifted by the doppler effect for a given velocity 'v'\n",
    "def doppler(f0, v):\n",
    "    return c / (c + v) * f0\n",
    "\n",
    "display_var(\"f_0 - f_{doppler}\", 5000 - doppler(5000, 1), \"Hz\", \" for $f_0 = 5000$ Hz: \")\n",
    "display_var(\"f_0 - f_{doppler}\", 22000 - doppler(22000, 1), \"Hz\", \" for $f_0 = 22000$ Hz: \")"
   ]
  },
  {
   "cell_type": "markdown",
   "metadata": {},
   "source": [
    "The next important parameter is $n_s$, which is the number of samples used for each Fourier Transform. First and foremost, $n_s$ determines the amount of time over which samples are gathered for one calculation, $T_{FFT}$. \n",
    "\n",
    "$$ T_{FFT} = T_s n_s = {n_s \\over f_s} $$"
   ]
  },
  {
   "cell_type": "code",
   "execution_count": 90,
   "metadata": {},
   "outputs": [
    {
     "data": {
      "text/markdown": [
       "$\\text{ $T_s = 0.023 \\text{ ms } $ } $"
      ],
      "text/plain": [
       "<IPython.core.display.Markdown object>"
      ]
     },
     "metadata": {},
     "output_type": "display_data"
    },
    {
     "data": {
      "text/markdown": [
       "$\\text{ $T_{FFT} = 185.760 \\text{ ms } $ } $"
      ],
      "text/plain": [
       "<IPython.core.display.Markdown object>"
      ]
     },
     "metadata": {},
     "output_type": "display_data"
    }
   ],
   "source": [
    "# Returns the sample period given a sample frequency\n",
    "def sample_period(f_s):\n",
    "    return 1 / f_s\n",
    "\n",
    "# Returns the time (in seconds) over which one transform would be calculated\n",
    "def fft_period(T_s, n):\n",
    "    return T_s * n\n",
    "\n",
    "display_var(\"T_s\", sample_period(44100) * 1000, \"ms\")\n",
    "display_var(\"T_{FFT}\", fft_period(sample_period(44100), 8192) * 1000, \"ms\")"
   ]
  },
  {
   "cell_type": "markdown",
   "metadata": {},
   "source": [
    "The number of samples also defines the number of frequency bins that will be in the resulting Transform $2n_{bins} = n_s$. The more frequency bins there are, the higher the resolution of the spectrum, $f_{bin}$ since those bins are distributed over the Nyquist frequency $f_s \\over 2$."
   ]
  },
  {
   "cell_type": "code",
   "execution_count": 97,
   "metadata": {},
   "outputs": [
    {
     "data": {
      "text/markdown": [
       "$\\text{ $f_{bin} = 5.383 \\text{ Hz } $ } $"
      ],
      "text/plain": [
       "<IPython.core.display.Markdown object>"
      ]
     },
     "metadata": {},
     "output_type": "display_data"
    },
    {
     "data": {
      "text/markdown": [
       "$\\text{ $\\text{resolution} = 11.000 \\text{  } $ } $"
      ],
      "text/plain": [
       "<IPython.core.display.Markdown object>"
      ]
     },
     "metadata": {},
     "output_type": "display_data"
    }
   ],
   "source": [
    "# Returns the number of hertz per frequency bin in the fft\n",
    "def freq_per_bin(T_s, n):\n",
    "    return 1 / fft_period(T_s, n)\n",
    "\n",
    "''' For a given set of parameters, returns the resolution with which\n",
    "    the system will be able to detect the doppler effect.\n",
    "    Essentially by resolution we mean the number of bins that span\n",
    "    the range of velocities we want to detect.\n",
    "'''\n",
    "def resolution(T_s, n, f0, vmax):\n",
    "    return abs(int((doppler(f0, vmax) - f0) / freq_per_bin(T_s, n)))\n",
    "\n",
    "display_var(\"f_{bin}\", freq_per_bin(sample_period(44100), 8192), \"Hz\")\n",
    "display_var(\"\\\\text{resolution}\", resolution(sample_period(44100), 8192, 22000, 1))"
   ]
  },
  {
   "cell_type": "markdown",
   "metadata": {},
   "source": [
    "In general, $n_{s}$ will also be chosen as a power of 2 as FFT algorithms run most efficently for those sample counts."
   ]
  },
  {
   "cell_type": "code",
   "execution_count": null,
   "metadata": {},
   "outputs": [],
   "source": []
  }
 ],
 "metadata": {
  "kernelspec": {
   "display_name": "Python 3",
   "language": "python",
   "name": "python3"
  },
  "language_info": {
   "codemirror_mode": {
    "name": "ipython",
    "version": 3
   },
   "file_extension": ".py",
   "mimetype": "text/x-python",
   "name": "python",
   "nbconvert_exporter": "python",
   "pygments_lexer": "ipython3",
   "version": "3.5.2"
  }
 },
 "nbformat": 4,
 "nbformat_minor": 2
}
