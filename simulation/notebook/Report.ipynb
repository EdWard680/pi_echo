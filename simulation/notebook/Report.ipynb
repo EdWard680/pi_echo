{
 "cells": [
  {
   "cell_type": "code",
   "execution_count": 53,
   "metadata": {
    "hide_input": true
   },
   "outputs": [],
   "source": [
    "import numpy as np\n",
    "from numpy import linalg as la\n",
    "import matplotlib.pyplot as plt\n",
    "import math\n",
    "import ipywidgets as widgets\n",
    "from IPython.display import display, Markdown, Latex\n",
    "import sympy\n",
    "# from sympy import *\n",
    "# from sympy.physics.units import *\n",
    "\n",
    "%matplotlib inline\n",
    "\n",
    "# Speed of sound\n",
    "c = 343\n",
    "max_vel = 30\n",
    "\n",
    "def display_var(var, value, unit=None, preface=None):\n",
    "    display(Markdown(\"$\\\\text{{ {}${} = {:.3f} \\\\text{{ {} }} $ }} $\".format(preface or \"\", var, value, unit or \"\")))\n",
    "\n",
    "def plot(data):\n",
    "    plt.plot(data)\n",
    "    plt.show()"
   ]
  },
  {
   "cell_type": "markdown",
   "metadata": {},
   "source": [
    "# Pi Echo\n",
    "\n",
    "_Introduction_\n",
    "\n",
    "## Background\n"
   ]
  },
  {
   "cell_type": "markdown",
   "metadata": {},
   "source": [
    "## Aproach\n",
    "### Simulation\n",
    "\n",
    "Simulating a system like this is actually rather straight forward. The goal of each simulation is to determine the performance of each set of parameters. The key parameters are the sample frequency, $f_s$, which affects the limits of all other parameters and performance characteristics. Primarily, it determines the highest frequency which can be detected by the system, in accordance with the Nyquist Sampling Theorm $f_s > 2f_{max}$. In our application, $f_{max}$ is going to be the emitted frequency doppler shifted by the maximum speed we want to detect. In general, the doppler shift will be very small compared to the frequency itself, so we'll generalize the constraint to be\n",
    "\n",
    "$$ f_s > 2f_0 $$\n",
    "\n",
    "where f_0 is the emitted frequency. $f_0$ itself affects the performance characteristics a marginal amount. The doppler effect is defined as\n",
    "\n",
    "$$ f_{doppler} = {c \\over c+v} f_0 $$\n",
    "\n",
    "When a standard Discrete Fourier Transform is used to find frequencies, a higher $f_0$ will result in a proportional shift in $f_{doppler}$ as a result, which will span more frequency bins in the transform."
   ]
  },
  {
   "cell_type": "code",
   "execution_count": 54,
   "metadata": {},
   "outputs": [
    {
     "data": {
      "text/markdown": [
       "$\\text{  for $f_0 = 5000$ Hz: $f_0 - f_{doppler} = 14.535 \\text{ Hz } $ } $"
      ],
      "text/plain": [
       "<IPython.core.display.Markdown object>"
      ]
     },
     "metadata": {},
     "output_type": "display_data"
    },
    {
     "data": {
      "text/markdown": [
       "$\\text{  for $f_0 = 22000$ Hz: $f_0 - f_{doppler} = 63.953 \\text{ Hz } $ } $"
      ],
      "text/plain": [
       "<IPython.core.display.Markdown object>"
      ]
     },
     "metadata": {},
     "output_type": "display_data"
    }
   ],
   "source": [
    "c = 343 # m/s\n",
    "\n",
    "# Returns the frequency shifted by the doppler effect for a given velocity 'v'\n",
    "def doppler(f0, v):\n",
    "    return c / (c + v) * f0\n",
    "\n",
    "display_var(\"f_0 - f_{doppler}\", 5000 - doppler(5000, 1), \"Hz\", \" for $f_0 = 5000$ Hz: \")\n",
    "display_var(\"f_0 - f_{doppler}\", 22000 - doppler(22000, 1), \"Hz\", \" for $f_0 = 22000$ Hz: \")"
   ]
  },
  {
   "cell_type": "markdown",
   "metadata": {},
   "source": [
    "The next important parameter is $n_s$, which is the number of samples used for each Fourier Transform. First and foremost, $n_s$ determines the amount of time over which samples are gathered for one calculation, $T_{FFT}$. \n",
    "\n",
    "$$ T_{FFT} = T_s n_s = {n_s \\over f_s} $$"
   ]
  },
  {
   "cell_type": "code",
   "execution_count": 55,
   "metadata": {
    "scrolled": true
   },
   "outputs": [
    {
     "data": {
      "text/markdown": [
       "$\\text{ $T_s = 0.023 \\text{ ms } $ } $"
      ],
      "text/plain": [
       "<IPython.core.display.Markdown object>"
      ]
     },
     "metadata": {},
     "output_type": "display_data"
    },
    {
     "data": {
      "text/markdown": [
       "$\\text{ $T_{FFT} = 185.760 \\text{ ms } $ } $"
      ],
      "text/plain": [
       "<IPython.core.display.Markdown object>"
      ]
     },
     "metadata": {},
     "output_type": "display_data"
    }
   ],
   "source": [
    "# Returns the sample period given a sample frequency\n",
    "def sample_period(f_s):\n",
    "    return 1 / f_s\n",
    "\n",
    "# Returns the time (in seconds) over which one transform would be calculated\n",
    "def fft_period(T_s, n):\n",
    "    return T_s * n\n",
    "\n",
    "display_var(\"T_s\", sample_period(44100) * 1000, \"ms\")\n",
    "display_var(\"T_{FFT}\", fft_period(sample_period(44100), 8192) * 1000, \"ms\")"
   ]
  },
  {
   "cell_type": "markdown",
   "metadata": {},
   "source": [
    "The number of samples also defines the number of frequency bins that will be in the resulting Transform $2n_{bins} = n_s$. The more frequency bins there are, the higher the resolution of the spectrum, $f_{bin}$ since those bins are distributed over the Nyquist frequency $f_s \\over 2$."
   ]
  },
  {
   "cell_type": "code",
   "execution_count": 56,
   "metadata": {},
   "outputs": [
    {
     "data": {
      "text/markdown": [
       "$\\text{ $f_{bin} = 5.383 \\text{ Hz } $ } $"
      ],
      "text/plain": [
       "<IPython.core.display.Markdown object>"
      ]
     },
     "metadata": {},
     "output_type": "display_data"
    },
    {
     "data": {
      "text/markdown": [
       "$\\text{ $\\text{resolution} = 11.000 \\text{  } $ } $"
      ],
      "text/plain": [
       "<IPython.core.display.Markdown object>"
      ]
     },
     "metadata": {},
     "output_type": "display_data"
    }
   ],
   "source": [
    "# Returns the number of hertz per frequency bin in the fft\n",
    "def freq_per_bin(T_s, n):\n",
    "    return 1 / fft_period(T_s, n)\n",
    "\n",
    "''' For a given set of parameters, returns the resolution with which\n",
    "    the system will be able to detect the doppler effect.\n",
    "    Essentially by resolution we mean the number of bins that span\n",
    "    the range of velocities we want to detect.\n",
    "'''\n",
    "def resolution(T_s, n, f0, vmax):\n",
    "    return abs(int((doppler(f0, vmax) - f0) / freq_per_bin(T_s, n)))\n",
    "\n",
    "display_var(\"f_{bin}\", freq_per_bin(sample_period(44100), 8192), \"Hz\")\n",
    "display_var(\"\\\\text{resolution}\", resolution(sample_period(44100), 8192, 22000, 1))"
   ]
  },
  {
   "cell_type": "markdown",
   "metadata": {},
   "source": [
    "In general, $n_{s}$ will also be chosen as a power of 2 as FFT algorithms run most efficently for those sample counts."
   ]
  },
  {
   "cell_type": "code",
   "execution_count": 60,
   "metadata": {
    "scrolled": true
   },
   "outputs": [
    {
     "data": {
      "image/png": "[encoded data removed]",
      "text/plain": [
       "<Figure size 432x288 with 1 Axes>"
      ]
     },
     "metadata": {
      "needs_background": "light"
     },
     "output_type": "display_data"
    }
   ],
   "source": [
    "''' Generates the signal received by a sensor at 'sensor' and a target object\n",
    "    at 'start' moving at a 'velocity' due to the doppler effect of the\n",
    "    frequency 'f0'\n",
    "'''\n",
    "def signal_gen(T_s, n, sensor, start, velocity, f0):\n",
    "    t = 0\n",
    "    for i in range(n):\n",
    "        r = sensor - start + velocity*t\n",
    "        w = np.dot(velocity, r / la.norm(r))\n",
    "        f = doppler(f0, w)\n",
    "        yield math.sin(2*math.pi*f*t) + math.sin(2*math.pi*f0*t)\n",
    "        t += T_s\n",
    "        \n",
    "f0 = 22000\n",
    "f_s = 44100\n",
    "T_s = sample_period(f_s)\n",
    "n = 4096\n",
    "\n",
    "signal = list(\n",
    "    signal_gen(\n",
    "        T_s\n",
    "        , 4096\n",
    "        , np.array([0, 0])\n",
    "        , np.array([1,1])\n",
    "        , np.array([1,1])\n",
    "        , f0\n",
    "    )\n",
    ")\n",
    "plot(signal)"
   ]
  },
  {
   "cell_type": "code",
   "execution_count": 61,
   "metadata": {},
   "outputs": [
    {
     "data": {
      "text/markdown": [
       "$\\text{ $n_{bins} = 2049.000 \\text{  } $ } $"
      ],
      "text/plain": [
       "<IPython.core.display.Markdown object>"
      ]
     },
     "metadata": {},
     "output_type": "display_data"
    },
    {
     "data": {
      "image/png": "[encoded data removed]",
      "text/plain": [
       "<Figure size 432x288 with 1 Axes>"
      ]
     },
     "metadata": {
      "needs_background": "light"
     },
     "output_type": "display_data"
    }
   ],
   "source": [
    "def freq_spectrum(signal):\n",
    "    return [np.absolute(sample) for sample in np.fft.rfft(signal)]\n",
    "\n",
    "spectrum = freq_spectrum(signal)\n",
    "n_bins = len(spectrum)\n",
    "display_var(\"n_{bins}\", n_bins)\n",
    "plot(spectrum)"
   ]
  },
  {
   "cell_type": "code",
   "execution_count": 68,
   "metadata": {},
   "outputs": [
    {
     "data": {
      "text/markdown": [
       "$\\text{ Frequency Shift: $f_{\\text{shift}} = 3.826 \\text{ Hz } $ } $"
      ],
      "text/plain": [
       "<IPython.core.display.Markdown object>"
      ]
     },
     "metadata": {},
     "output_type": "display_data"
    }
   ],
   "source": [
    "# Finds a local min\n",
    "def find_next_low(data):\n",
    "    minv = None\n",
    "    for i, v in enumerate(data):\n",
    "        if minv is None:\n",
    "            minv = v\n",
    "        elif v < minv:\n",
    "            minv = v\n",
    "        else:\n",
    "            return i-1\n",
    "    return len(data)\n",
    "\n",
    "\n",
    "# Finds the global max starting at the first local min\n",
    "def find_next_peak(data):\n",
    "    maxv = 0\n",
    "    ret = 0\n",
    "    start = find_next_low(data)\n",
    "    data = data[start:]\n",
    "    for i, v in enumerate(data):\n",
    "        if v > maxv:\n",
    "            maxv = v\n",
    "            ret = i   \n",
    "    return start + ret\n",
    "\n",
    "# Returns mean and standard deviation of input data\n",
    "def characterize_peak(data):\n",
    "    sumweight = 0\n",
    "    sumdata = 0\n",
    "    for i, v in enumerate(data):\n",
    "        sumweight += v\n",
    "        sumdata += i*v\n",
    "\n",
    "    mean = sumdata / sumweight\n",
    "\n",
    "    variance = 0\n",
    "    for i, v in enumerate(data):\n",
    "        variance += v / sumweight * (mean - i)**2\n",
    "\n",
    "    std_dev = math.sqrt(variance)\n",
    "\n",
    "    return (mean, std_dev)\n",
    "\n",
    "''' Finds the doppler shifted frequency in a spectrum about f0.\n",
    "    Returns the mean and standard deviation\n",
    "'''\n",
    "def find_shift(T_s, f0, spectrum):\n",
    "    samples = (len(spectrum)-1)*2\n",
    "    fpb = freq_per_bin(T_s, samples)\n",
    "\n",
    "    peak_range = doppler(f0, max_vel)\n",
    "\n",
    "    f0_bin = round(f0 / fpb)\n",
    "    bin_range = int(peak_range / fpb)\n",
    "\n",
    "    # Find highest bin in search range to left and right of f0 peak\n",
    "    left_peak = f0_bin - find_next_peak(spectrum[f0_bin:f0_bin-bin_range:-1])\n",
    "    right_peak = f0_bin + find_next_peak(spectrum[f0_bin:f0_bin+bin_range])\n",
    "\n",
    "    max_peak = max((left_peak, right_peak),\n",
    "                key=lambda x: spectrum[x] if 0 <= x < len(spectrum) else 0)\n",
    "\n",
    "    peak_start = find_next_low(spectrum[max_peak:max_peak-bin_range:-1])\n",
    "    peak_end = find_next_low(spectrum[max_peak:max_peak+bin_range])\n",
    "\n",
    "    # symmetry\n",
    "    peak_start = peak_end = min(peak_start, peak_end)\n",
    "\n",
    "    mean, std_dev = characterize_peak(spectrum[max_peak-peak_start:max_peak+peak_end])\n",
    "    mean += max_peak-peak_start\n",
    "\n",
    "    freq_mean = mean*fpb\n",
    "    std_dev = std_dev*fpb\n",
    "\n",
    "    return freq_mean - f0, std_dev\n",
    "\n",
    "shift, sigma = find_shift(T_s, f0, spectrum)\n",
    "display_var(\"f_{\\\\text{shift}}\", shift, \"Hz\", \"Frequency Shift: \")"
   ]
  },
  {
   "cell_type": "code",
   "execution_count": 69,
   "metadata": {},
   "outputs": [
    {
     "data": {
      "text/markdown": [
       "$\\text{ Doppler Velocity: $v_\\text{doppler} = 0.060 \\text{ m/s } $ } $"
      ],
      "text/plain": [
       "<IPython.core.display.Markdown object>"
      ]
     },
     "metadata": {},
     "output_type": "display_data"
    }
   ],
   "source": [
    "# Returns the velocity based on the known frequency shift\n",
    "def inv_doppler(f0, df):\n",
    "    return df/f0*c\n",
    "\n",
    "dopple_v = inv_doppler(f0, shift)\n",
    "dopple_sigma = inv_doppler(f0, sigma)\n",
    "display_var(\"v_\\\\text{doppler}\", dopple_v, \"m/s\", \"Doppler Velocity: \")"
   ]
  },
  {
   "cell_type": "code",
   "execution_count": null,
   "metadata": {},
   "outputs": [],
   "source": []
  }
 ],
 "metadata": {
  "kernelspec": {
   "display_name": "Python 3",
   "language": "python",
   "name": "python3"
  },
  "language_info": {
   "codemirror_mode": {
    "name": "ipython",
    "version": 3
   },
   "file_extension": ".py",
   "mimetype": "text/x-python",
   "name": "python",
   "nbconvert_exporter": "python",
   "pygments_lexer": "ipython3",
   "version": "3.7.3"
  }
 },
 "nbformat": 4,
 "nbformat_minor": 2
}
