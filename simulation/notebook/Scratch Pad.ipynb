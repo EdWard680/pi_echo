{
 "cells": [
  {
   "cell_type": "code",
   "execution_count": 1,
   "metadata": {},
   "outputs": [],
   "source": [
    "import numpy as np\n",
    "from numpy import linalg as la\n",
    "import matplotlib.pyplot as plt\n",
    "import math\n",
    "import ipywidgets as widgets\n",
    "from IPython.display import display, Markdown, Latex\n",
    "import sympy\n",
    "from sympy import *\n",
    "from sympy.physics.units import *\n",
    "from scipy.optimize import minimize\n",
    "from sympy.utilities.lambdify import lambdify\n",
    "\n",
    "sympy.init_printing()"
   ]
  },
  {
   "cell_type": "code",
   "execution_count": 2,
   "metadata": {},
   "outputs": [],
   "source": [
    "x, y, dx, dy = symbols(\"x y dx dy\")\n",
    "xdot, ydot = symbols(\"xdot ydot\", cls=Function)\n",
    "m = 4\n",
    "xs = [symbols(\"x{}\".format(i)) for i in range(m)]\n",
    "ys = [symbols(\"y{}\".format(i)) for i in range(m)]\n",
    "drs = [symbols(\"dr{}\".format(i)) for i in range(m)]\n"
   ]
  },
  {
   "cell_type": "code",
   "execution_count": 3,
   "metadata": {
    "scrolled": true
   },
   "outputs": [
    {
     "data": {
      "image/png": "[encoded data removed]",
      "text/latex": [
       "$$\\left(- dr_{0} + \\frac{\\left(x - x_{0}\\right) \\dot{x}{\\left (x \\right )} + \\left(y - y_{0}\\right) \\dot{y}{\\left (y \\right )}}{\\left(\\left(x - x_{0}\\right)^{2} + \\left(y - y_{0}\\right)^{2}\\right)^{0.5}}\\right)^{2} + \\left(- dr_{1} + \\frac{\\left(x - x_{1}\\right) \\dot{x}{\\left (x \\right )} + \\left(y - y_{1}\\right) \\dot{y}{\\left (y \\right )}}{\\left(\\left(x - x_{1}\\right)^{2} + \\left(y - y_{1}\\right)^{2}\\right)^{0.5}}\\right)^{2} + \\left(- dr_{2} + \\frac{\\left(x - x_{2}\\right) \\dot{x}{\\left (x \\right )} + \\left(y - y_{2}\\right) \\dot{y}{\\left (y \\right )}}{\\left(\\left(x - x_{2}\\right)^{2} + \\left(y - y_{2}\\right)^{2}\\right)^{0.5}}\\right)^{2} + \\left(- dr_{3} + \\frac{\\left(x - x_{3}\\right) \\dot{x}{\\left (x \\right )} + \\left(y - y_{3}\\right) \\dot{y}{\\left (y \\right )}}{\\left(\\left(x - x_{3}\\right)^{2} + \\left(y - y_{3}\\right)^{2}\\right)^{0.5}}\\right)^{2}$$"
      ],
      "text/plain": [
       "                                                                      2       \n",
       "⎛                                                                -0.5⎞    ⎛   \n",
       "⎜                                         ⎛        2           2⎞    ⎟    ⎜   \n",
       "⎝-dr₀ + ((x - x₀)⋅ẋ(x) + (y - y₀)⋅ẏ(y))⋅⎝(x - x₀)  + (y - y₀) ⎠    ⎠  + ⎝-dr\n",
       "\n",
       "                                                                  2           \n",
       "                                                             -0.5⎞    ⎛       \n",
       "                                      ⎛        2           2⎞    ⎟    ⎜       \n",
       "₁ + ((x - x₁)⋅ẋ(x) + (y - y₁)⋅ẏ(y))⋅⎝(x - x₁)  + (y - y₁) ⎠    ⎠  + ⎝-dr₂ + \n",
       "\n",
       "                                                              2               \n",
       "                                                         -0.5⎞    ⎛           \n",
       "                                  ⎛        2           2⎞    ⎟    ⎜           \n",
       "((x - x₂)⋅ẋ(x) + (y - y₂)⋅ẏ(y))⋅⎝(x - x₂)  + (y - y₂) ⎠    ⎠  + ⎝-dr₃ + ((x \n",
       "\n",
       "                                                          2\n",
       "                                                     -0.5⎞ \n",
       "                              ⎛        2           2⎞    ⎟ \n",
       "- x₃)⋅ẋ(x) + (y - y₃)⋅ẏ(y))⋅⎝(x - x₃)  + (y - y₃) ⎠    ⎠ "
      ]
     },
     "execution_count": 3,
     "metadata": {},
     "output_type": "execute_result"
    }
   ],
   "source": [
    "Es = [(xdot(x)*(x-xi)+ydot(y)*(y-yi))*((x-xi)**2 + (y-yi)**2)**(-1/2) - dri for xi, yi, dri in zip(xs, ys, drs)]\n",
    "F = sum((E**2 for E in Es))\n",
    "F"
   ]
  },
  {
   "cell_type": "code",
   "execution_count": 4,
   "metadata": {},
   "outputs": [],
   "source": [
    "dxdtx = diff(xdot(x), x)\n",
    "dydtx = diff(ydot(y), y)\n",
    "dfdx = diff(F, x).subs(dxdtx, 0).subs(xdot(x), dx).subs(ydot(y), dy)\n",
    "dfdy = diff(F, y).subs(dydtx, 0).subs(xdot(x), dx).subs(ydot(y), dy)\n",
    "F = F.subs(xdot(x), dx).subs(ydot(y), dy)\n",
    "F_fn = lambdify((x, y, dx, dy, *xs, *ys, *drs), F, \"numpy\")\n",
    "dfdxdt = diff(F, dx)\n",
    "dfdydt = diff(F, dy)\n",
    "G = [dfdx, dfdy, dfdxdt, dfdydt] # gradient of F\n",
    "G_fn = [lambdify((x, y, dx, dy, *xs, *ys, *drs), g, \"numpy\") for g in G]"
   ]
  },
  {
   "cell_type": "code",
   "execution_count": 5,
   "metadata": {},
   "outputs": [],
   "source": [
    "xsubs=[1, 3, 1, 6]\n",
    "ysubs=[6, 1, 0.5, 2]\n",
    "rdotsubs=[-1.1860489971521626, -1.2982653874863912, -1.3793586660117907, -1.3002255874269588]\n",
    "\n",
    "F_call = lambda zz: F_fn(*zz, *xsubs, *ysubs, *rdotsubs)\n",
    "G_call = lambda zz: np.array([g_fn(*zz, *xsubs, *ysubs, *rdotsubs) for g_fn in G_fn])"
   ]
  },
  {
   "cell_type": "code",
   "execution_count": 6,
   "metadata": {},
   "outputs": [
    {
     "name": "stdout",
     "output_type": "stream",
     "text": [
      "     fun: 0.005578680110684838\n",
      "     jac: array([-7.10574504e-04,  7.21577163e-05,  4.58981735e-04, -1.83683376e-04])\n",
      " message: 'Optimization terminated successfully.'\n",
      "    nfev: 21\n",
      "     nit: 17\n",
      "    njev: 17\n",
      "  status: 0\n",
      " success: True\n",
      "       x: array([ 4.60059963, 10.7578816 , -0.21275899, -1.33601705])\n",
      "0.005025256486806806\n",
      "0.005578680110684838\n"
     ]
    }
   ],
   "source": [
    "minx = min(xsubs)-2\n",
    "miny = min(ysubs)-2\n",
    "maxx = max(xsubs)*1.1\n",
    "maxy = max(ysubs)*1.1\n",
    "\n",
    "bnds = ((minx, maxx), (miny, maxy), (minx, maxx), (miny, maxy))\n",
    "zz0 = np.array([sum(xsubs)/len(xsubs), sum(ysubs)/len(ysubs), 0, 0])\n",
    "\n",
    "rslts = minimize(F_call, zz0, method='SLSQP', jac=G_call)\n",
    "print(rslts)\n",
    "print(F_call(np.array([0, 0, 1, 1])))\n",
    "print(F_call(rslts.x))"
   ]
  },
  {
   "cell_type": "code",
   "execution_count": 7,
   "metadata": {},
   "outputs": [],
   "source": [
    "\n",
    "import numpy as np\n",
    "from numpy import linalg as la\n",
    "import matplotlib.pyplot as plt\n",
    "import math\n",
    "import ipywidgets as widgets\n",
    "from IPython.display import display, Markdown, Latex\n",
    "import sympy\n",
    "from sympy import *\n",
    "from scipy.optimize import minimize\n",
    "from sympy.utilities.lambdify import lambdify\n",
    "\n",
    "class Solver(object):\n",
    "    def __init__(self, sensor_poses):\n",
    "        x, y, dx, dy = symbols(\"x y dx dy\")\n",
    "        xdot, ydot = symbols(\"xdot ydot\", cls=Function)\n",
    "        drs = [symbols(\"dr{}\".format(i)) for i in range(len(sensor_poses))]\n",
    "        \n",
    "        self.zz0 = np.concatenate([sum(sensor_poses)/len(sensor_poses), np.array([0, 0])])\n",
    "        \n",
    "        # Per Sesnor Error Function\n",
    "        Es = [(xdot(x)*(x-p[0])+ydot(y)*(y-p[1]))*((x-p[0])**2 + (y-p[1])**2)**(-1/2) - dri \n",
    "                   for p, dri in zip(sensor_poses, drs)]\n",
    "        \n",
    "        # Objective Function (total error)\n",
    "        F = sum((E**2 for E in Es))\n",
    "        \n",
    "        dxdtx = diff(xdot(x), x)\n",
    "        dydtx = diff(ydot(y), y)\n",
    "        dfdx = diff(F, x).subs(dxdtx, 0).subs(xdot(x), dx).subs(ydot(y), dy)\n",
    "        dfdy = diff(F, y).subs(dydtx, 0).subs(xdot(x), dx).subs(ydot(y), dy)\n",
    "        F = F.subs(xdot(x), dx).subs(ydot(y), dy)\n",
    "        self.F_fn = lambdify((x, y, dx, dy, *drs), F, \"numpy\")\n",
    "        dfdxdt = diff(F, dx)\n",
    "        dfdydt = diff(F, dy)\n",
    "        G = [dfdx, dfdy, dfdxdt, dfdydt] # gradient of F\n",
    "        self.G_fn = [lambdify((x, y, dx, dy, *drs), g, \"numpy\") for g in G]\n",
    "        \n",
    "        self.F = F\n",
    "        self.G = G\n",
    "    \n",
    "    def get_objective_expr(self):\n",
    "        return self.F\n",
    "    \n",
    "    def get_gradient_expr(self):\n",
    "        return self.G\n",
    "    \n",
    "    # Returns (position estimate, velocity estimate)\n",
    "    def find_min(self, drs, method='SLSQP', **args):\n",
    "        F_call = lambda zz: self.F_fn(*zz, *drs)\n",
    "        G_call = lambda zz: np.array([g_fn(*zz, *drs) for g_fn in self.G_fn])\n",
    "        \n",
    "            rslts = minimize(F_call, zz0, method=method, jac=G_call)\n",
    "        \n",
    "        return rslts.x[:2], rslts.x[2:]"
   ]
  },
  {
   "cell_type": "code",
   "execution_count": 16,
   "metadata": {},
   "outputs": [],
   "source": [
    "s = Solver([np.array([1,6]), np.array([3,1]), np.array([1,0.5]), np.array([6,2])])"
   ]
  },
  {
   "cell_type": "code",
   "execution_count": 17,
   "metadata": {},
   "outputs": [
    {
     "data": {
      "text/plain": [
       "(array([ 4.60059963, 10.7578816 ]), array([-0.21275899, -1.33601705]))"
      ]
     },
     "execution_count": 17,
     "metadata": {},
     "output_type": "execute_result"
    }
   ],
   "source": [
    "s.find_min([-1.1860489971521626, -1.2982653874863912, -1.3793586660117907, -1.3002255874269588])"
   ]
  },
  {
   "cell_type": "code",
   "execution_count": null,
   "metadata": {},
   "outputs": [],
   "source": []
  },
  {
   "cell_type": "code",
   "execution_count": null,
   "metadata": {},
   "outputs": [],
   "source": []
  }
 ],
 "metadata": {
  "kernelspec": {
   "display_name": "Python 3",
   "language": "python",
   "name": "python3"
  },
  "language_info": {
   "codemirror_mode": {
    "name": "ipython",
    "version": 3
   },
   "file_extension": ".py",
   "mimetype": "text/x-python",
   "name": "python",
   "nbconvert_exporter": "python",
   "pygments_lexer": "ipython3",
   "version": "3.5.2"
  }
 },
 "nbformat": 4,
 "nbformat_minor": 2
}
