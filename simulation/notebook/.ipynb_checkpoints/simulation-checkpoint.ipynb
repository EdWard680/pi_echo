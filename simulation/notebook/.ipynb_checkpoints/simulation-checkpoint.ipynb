{
 "cells": [
  {
   "cell_type": "code",
   "execution_count": 203,
   "metadata": {
    "hide_input": true
   },
   "outputs": [],
   "source": [
    "import numpy as np\n",
    "from numpy import linalg as la\n",
    "import matplotlib.pyplot as plt\n",
    "import math\n",
    "import ipywidgets as widgets\n",
    "from IPython.display import display, Markdown, Latex\n",
    "import sympy\n",
    "from sympy import *\n",
    "from sympy.physics.units import *\n",
    "from functools import reduce\n",
    "from collections import defaultdict\n",
    "import operator\n",
    "sympy.init_printing(latex_mode='inline')\n",
    "\n",
    "relationships = []\n",
    "units = defaultdict(type(None))\n",
    "\n",
    "def define_relation(expr):\n",
    "    relationships.append(expr)\n",
    "    return expr\n",
    "\n",
    "def convert(val, unit):\n",
    "    if unit:\n",
    "        return convert_to(val, unit)\n",
    "    else:\n",
    "        return val\n",
    "\n",
    "def calc(unknowns, *givens):\n",
    "    ''' TODO: Rework to following\n",
    "    1. Solve for all variables in terms of givens\n",
    "    2. For each unknown, substitute all other variables simultaneously\n",
    "    '''\n",
    "    eqs = relationships + [Eq(*given) for given in givens]\n",
    "    syms = reduce(operator.or_, (eq.free_symbols for eq in eqs))\n",
    "    solns = nonlinsolve(eqs, [sym for sym in syms])\n",
    "    solns = [{unknown: convert(val.evalf(4), units[unknown]) for unknown, val in zip(syms, soln)} for soln in solns]\n",
    "    return solns\n",
    "    # return [{unknown: convert_to(val.subs(givens).evalf(4), units[unknown]) for (unknown, val) in zip(unknowns, soln)} for soln in (nonlinsolve(relationships, unknowns))]\n"
   ]
  },
  {
   "cell_type": "markdown",
   "metadata": {},
   "source": [
    "# Pi Echo Simulation\n",
    "\n",
    "This simulation will show the performance of pi echo given specified parameters."
   ]
  },
  {
   "cell_type": "code",
   "execution_count": 204,
   "metadata": {
    "hide_input": true,
    "tags": [
     "hidecode"
    ]
   },
   "outputs": [],
   "source": [
    "T_s, f_s, n, T_fft, f_bin = symbols(\"\\\\Tsample \\\\fsample \\\\nfft \\\\Tfft \\\\fbin\")\n",
    "units[T_s] = us\n",
    "units[f_s] = hertz\n",
    "units[T_fft] = ms\n",
    "units[f_bin] = hertz"
   ]
  },
  {
   "cell_type": "markdown",
   "metadata": {
    "hide_input": false,
    "tags": [
     "hidecode"
    ],
    "variables": {
     "define_relation(Eq(T_fft*f_bin, 1))": "$$\\Tfft \\fbin = 1$$",
     "define_relation(Eq(T_fft, n*T_s))": "$$\\Tfft = \\Tsample \\nfft$$",
     "define_relation(Eq(f_s*T_s, 1))": "$$\\Tsample \\fsample = 1$$"
    }
   },
   "source": [
    "$\\newcommand{\\Tsample}{T_{\\text{sample}}}\n",
    "\\newcommand{\\fsample}{f_{\\text{sample}}}\n",
    "\\newcommand{\\nfft}{n_{\\text{fft}}}\n",
    "\\newcommand{\\Tfft}{T_{\\text{fft}}}\n",
    "\\newcommand{\\fbin}{f_{\\text{bin}}}$\n",
    "The most important parameter is the sample frequency, $\\fsample$, which governs the bandwidth of the discrete fourier transform (DFT).\n",
    "\n",
    "{{define_relation(Eq(f_s*T_s, 1))}}\n",
    "\n",
    "The next major design point is $\\nfft$, which governs the resolution of the DFT ($\\fbin$), as well as the length of time it takes to sample one DFT ($\\Tfft$).\n",
    "\n",
    "{{define_relation(Eq(T_fft, n*T_s))}}\n",
    "\n",
    "{{define_relation(Eq(T_fft*f_bin, 1))}}\n"
   ]
  },
  {
   "cell_type": "code",
   "execution_count": 205,
   "metadata": {},
   "outputs": [
    {
     "data": {
      "text/latex": [
       "$$\\left [ \\left \\{ \\Tfft : 46.44 millisecond, \\quad \\Tsample : 22.68 microsecond, \\quad \\fbin : 21.53 hertz, \\quad \\fsample : 4.41 \\cdot 10^{4} hertz, \\quad \\nfft : 2048.0\\right \\}\\right ]$$"
      ],
      "text/plain": [
       "[{\\Tfft: 46.44⋅millisecond, \\Tsample: 22.68⋅microsecond, \\fbin: 21.53⋅hertz, \\\n",
       "fsample: 4.41e+4⋅hertz, \\nfft: 2048.0}]"
      ]
     },
     "execution_count": 205,
     "metadata": {},
     "output_type": "execute_result"
    }
   ],
   "source": [
    "calc((T_fft, f_bin), (f_s, 44100*hertz), (n, 2048))"
   ]
  }
 ],
 "metadata": {
  "celltoolbar": "Edit Metadata",
  "kernelspec": {
   "display_name": "Python 3",
   "language": "python",
   "name": "python3"
  },
  "language_info": {
   "codemirror_mode": {
    "name": "ipython",
    "version": 3
   },
   "file_extension": ".py",
   "mimetype": "text/x-python",
   "name": "python",
   "nbconvert_exporter": "python",
   "pygments_lexer": "ipython3",
   "version": "3.5.2"
  }
 },
 "nbformat": 4,
 "nbformat_minor": 2
}
